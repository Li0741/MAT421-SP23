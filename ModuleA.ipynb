{
  "nbformat": 4,
  "nbformat_minor": 0,
  "metadata": {
    "colab": {
      "provenance": [],
      "authorship_tag": "ABX9TyNHaouSBrVO4Srf9KaccRel",
      "include_colab_link": true
    },
    "kernelspec": {
      "name": "python3",
      "display_name": "Python 3"
    },
    "language_info": {
      "name": "python"
    }
  },
  "cells": [
    {
      "cell_type": "markdown",
      "metadata": {
        "id": "view-in-github",
        "colab_type": "text"
      },
      "source": [
        "<a href=\"https://colab.research.google.com/github/Li0741/MAT421-SP23/blob/main/ModuleA.ipynb\" target=\"_parent\"><img src=\"https://colab.research.google.com/assets/colab-badge.svg\" alt=\"Open In Colab\"/></a>"
      ]
    },
    {
      "cell_type": "markdown",
      "source": [
        "**9.1 Based-N and Binary**"
      ],
      "metadata": {
        "id": "ej30nRJcFEiT"
      }
    },
    {
      "cell_type": "markdown",
      "source": [
        "The decimal system(Base 10) is a way of representing numbers with digit of 0 and 9. And each digit is being the coefficient of a power of 10."
      ],
      "metadata": {
        "id": "AffJEQsyND3T"
      }
    },
    {
      "cell_type": "markdown",
      "source": [
        "The binary system (Base 2) is a way of representing numbers with digit of 0 and 1. And each digit is being the coefficient of a power of 2."
      ],
      "metadata": {
        "id": "HAAqJaA1LNE0"
      }
    },
    {
      "cell_type": "code",
      "source": [
        "# 147.3（Base 10）\n",
        "147.3 == 1*(10**2) + 4*(10**1) + 7*(10**0) + 3*(10**-1)     "
      ],
      "metadata": {
        "colab": {
          "base_uri": "https://localhost:8080/"
        },
        "id": "kiX1S3h_FHoC",
        "outputId": "d3a2bdaf-1627-4317-bfb9-060863fdc693"
      },
      "execution_count": 57,
      "outputs": [
        {
          "output_type": "execute_result",
          "data": {
            "text/plain": [
              "True"
            ]
          },
          "metadata": {},
          "execution_count": 57
        }
      ]
    },
    {
      "cell_type": "code",
      "source": [
        "# 121(Base 3) == 16(Base 10)\n",
        "\n",
        "1*(3**2) + 2*(3**1) + 1*(3**0) == 1*(10**1) + 6*(10**0) "
      ],
      "metadata": {
        "colab": {
          "base_uri": "https://localhost:8080/"
        },
        "id": "-8sdy-f5KAoA",
        "outputId": "6e9da07f-d399-4b3e-ba54-ebf5628a5e67"
      },
      "execution_count": 58,
      "outputs": [
        {
          "output_type": "execute_result",
          "data": {
            "text/plain": [
              "True"
            ]
          },
          "metadata": {},
          "execution_count": 58
        }
      ]
    },
    {
      "cell_type": "code",
      "source": [
        "# Addition in Binary \n",
        "# 100101 + 1001 = 110110\n",
        "# Addition in Decimal \n",
        "# 37 + 17 = 54\n",
        "\n",
        "54 == 1*(2**5) + 1*(2**4) + 0*(2**3) + 1*(2**2) + 1*(2**1) + 0*(2**0)\n"
      ],
      "metadata": {
        "colab": {
          "base_uri": "https://localhost:8080/"
        },
        "id": "wzBXiWzsKAVc",
        "outputId": "6ecd4283-0cec-4ec7-f9f8-bbe8eff303a3"
      },
      "execution_count": 59,
      "outputs": [
        {
          "output_type": "execute_result",
          "data": {
            "text/plain": [
              "True"
            ]
          },
          "metadata": {},
          "execution_count": 59
        }
      ]
    },
    {
      "cell_type": "code",
      "source": [
        "# Multiplication in Binary\n",
        "# 100101 x 1001 = 1001110101\n",
        "# Addition in Decimal \n",
        "# 37 x 17 = 629\n",
        "\n",
        "629 == 1*(2**9) + 0*(2**8) + 0*(2**7) + 1*(2**6) + 1*(2**5) + 1*(2**4) + 0*(2**3) + 1*(2**2) + 0*(2**1) + 1*(2**0)"
      ],
      "metadata": {
        "colab": {
          "base_uri": "https://localhost:8080/"
        },
        "id": "1WsSIxvdMooh",
        "outputId": "10bf4799-c82e-48b3-b552-ff33750efff1"
      },
      "execution_count": 60,
      "outputs": [
        {
          "output_type": "execute_result",
          "data": {
            "text/plain": [
              "True"
            ]
          },
          "metadata": {},
          "execution_count": 60
        }
      ]
    },
    {
      "cell_type": "markdown",
      "source": [
        "**9.2 Floating Point Numbers**"
      ],
      "metadata": {
        "id": "nIF8sFjUFb66"
      }
    },
    {
      "cell_type": "markdown",
      "source": [
        "Floats allocate bits to 3 different parts: the sign indicators, exponent (which is the power of 2) and the fraction\n",
        "Floats can be present as:\n",
        "\n",
        "n = (-1)^s (2^(e-1023)) (1 + f)"
      ],
      "metadata": {
        "id": "cOJG7T-5TL83"
      }
    },
    {
      "cell_type": "code",
      "source": [
        "#float information\n",
        "import sys\n",
        "sys.float_info"
      ],
      "metadata": {
        "colab": {
          "base_uri": "https://localhost:8080/"
        },
        "id": "imW43-oVHS2j",
        "outputId": "ccd8684f-b177-4670-f1a5-148cd4869793"
      },
      "execution_count": 61,
      "outputs": [
        {
          "output_type": "execute_result",
          "data": {
            "text/plain": [
              "sys.float_info(max=1.7976931348623157e+308, max_exp=1024, max_10_exp=308, min=2.2250738585072014e-308, min_exp=-1021, min_10_exp=-307, dig=15, mant_dig=53, epsilon=2.220446049250313e-16, radix=2, rounds=1)"
            ]
          },
          "metadata": {},
          "execution_count": 61
        }
      ]
    },
    {
      "cell_type": "markdown",
      "source": [
        "We can find the gap from one number to the next using the spacing function. "
      ],
      "metadata": {
        "id": "b72KFaKQXctz"
      }
    },
    {
      "cell_type": "code",
      "source": [
        "#calling space funtion in numpy\n",
        "import numpy as np \n",
        "np.spacing(1e8) #gap at 1e8\n",
        "\n"
      ],
      "metadata": {
        "colab": {
          "base_uri": "https://localhost:8080/"
        },
        "id": "_DAxi6HeXbzw",
        "outputId": "14ed5837-edd1-47dd-8bc4-cf6ef6c655d8"
      },
      "execution_count": 62,
      "outputs": [
        {
          "output_type": "execute_result",
          "data": {
            "text/plain": [
              "1.4901161193847656e-08"
            ]
          },
          "metadata": {},
          "execution_count": 62
        }
      ]
    },
    {
      "cell_type": "code",
      "source": [
        "1e8 == (1e8 + np.spacing(1e8)/3) #veryfing that adding to 1e8 is less than half the gap at 1e8 is the same number"
      ],
      "metadata": {
        "colab": {
          "base_uri": "https://localhost:8080/"
        },
        "id": "Beure4m0YGrG",
        "outputId": "32a3d234-16e5-4305-bc3a-486da9108cb0"
      },
      "execution_count": 63,
      "outputs": [
        {
          "output_type": "execute_result",
          "data": {
            "text/plain": [
              "True"
            ]
          },
          "metadata": {},
          "execution_count": 63
        }
      ]
    },
    {
      "cell_type": "markdown",
      "source": [
        "Numbers that are larger than the largest representable floating point number result in overflow. It will return inf.\n",
        "\n",
        "Numbers that are smaller than the smallest subnormal number resulting underflow. It will return 0.0"
      ],
      "metadata": {
        "id": "7fn_szF6VRaL"
      }
    },
    {
      "cell_type": "code",
      "source": [
        "#Overflow\n",
        "#sys.float_info.max = 1.7976931348623157e+308 \n",
        "sys.float_info.max + sys.float_info.max "
      ],
      "metadata": {
        "colab": {
          "base_uri": "https://localhost:8080/"
        },
        "id": "3fc370boSTw7",
        "outputId": "99f94a84-b85a-4a3c-e14f-b696fff2aaf2"
      },
      "execution_count": 66,
      "outputs": [
        {
          "output_type": "execute_result",
          "data": {
            "text/plain": [
              "inf"
            ]
          },
          "metadata": {},
          "execution_count": 66
        }
      ]
    },
    {
      "cell_type": "code",
      "source": [
        "#Underflow\n",
        "2 ** (-1075) "
      ],
      "metadata": {
        "colab": {
          "base_uri": "https://localhost:8080/"
        },
        "id": "fpuiHnq-SfMr",
        "outputId": "2f7b6ba9-d26c-40ac-f0ea-e19721f5b33d"
      },
      "execution_count": 67,
      "outputs": [
        {
          "output_type": "execute_result",
          "data": {
            "text/plain": [
              "0.0"
            ]
          },
          "metadata": {},
          "execution_count": 67
        }
      ]
    },
    {
      "cell_type": "markdown",
      "source": [
        "**9.3 Round-off Errors**"
      ],
      "metadata": {
        "id": "A1sPz-4NHOD8"
      }
    },
    {
      "cell_type": "markdown",
      "source": [
        "Round-off error is the difference between an approximation of a number used in computation and its true value "
      ],
      "metadata": {
        "id": "21Rh1_igfF_w"
      }
    },
    {
      "cell_type": "code",
      "source": [
        "#round-off error\n",
        "5.2 - 4.845 == 0.355 "
      ],
      "metadata": {
        "id": "DZGQlfPHHTVg",
        "colab": {
          "base_uri": "https://localhost:8080/"
        },
        "outputId": "357d130e-255f-436d-9869-8136f075a11c"
      },
      "execution_count": 68,
      "outputs": [
        {
          "output_type": "execute_result",
          "data": {
            "text/plain": [
              "False"
            ]
          },
          "metadata": {},
          "execution_count": 68
        }
      ]
    },
    {
      "cell_type": "code",
      "source": [
        "#calculation\n",
        "5.2 - 4.845 "
      ],
      "metadata": {
        "colab": {
          "base_uri": "https://localhost:8080/"
        },
        "id": "4k1uB6WVg6Mf",
        "outputId": "3799ce89-1c82-449c-9eae-e8428beb57cf"
      },
      "execution_count": 69,
      "outputs": [
        {
          "output_type": "execute_result",
          "data": {
            "text/plain": [
              "0.3550000000000004"
            ]
          },
          "metadata": {},
          "execution_count": 69
        }
      ]
    },
    {
      "cell_type": "markdown",
      "source": [
        "By using round function in python, we can verify the statement is true or not"
      ],
      "metadata": {
        "id": "hPLsYSHplNe2"
      }
    },
    {
      "cell_type": "code",
      "source": [
        "#rounding to 6 digits\n",
        "round(5.2 - 4.845, 6)  == round(0.355 , 6) "
      ],
      "metadata": {
        "colab": {
          "base_uri": "https://localhost:8080/"
        },
        "id": "V7G7hQGvg_CT",
        "outputId": "abb2906a-d83e-49ae-b9e1-22b328dfd057"
      },
      "execution_count": 71,
      "outputs": [
        {
          "output_type": "execute_result",
          "data": {
            "text/plain": [
              "True"
            ]
          },
          "metadata": {},
          "execution_count": 71
        }
      ]
    },
    {
      "cell_type": "markdown",
      "source": [
        "Accumulation of round-off error happens when we doing a sequence of calculatio on an initial input with round-off input, then error can be accumulated."
      ],
      "metadata": {
        "id": "BCUTW-tdjr3d"
      }
    },
    {
      "cell_type": "code",
      "source": [
        "# If we only run it once \n",
        "4 + 2/7 - 2/7"
      ],
      "metadata": {
        "colab": {
          "base_uri": "https://localhost:8080/"
        },
        "id": "nsDULlc3h7l1",
        "outputId": "31278b04-27e1-4ac5-b9e5-c8f4bf281172"
      },
      "execution_count": 72,
      "outputs": [
        {
          "output_type": "execute_result",
          "data": {
            "text/plain": [
              "4.0"
            ]
          },
          "metadata": {},
          "execution_count": 72
        }
      ]
    },
    {
      "cell_type": "code",
      "source": [
        "def add_and_subtract(iterations): \n",
        "    result = 4\n",
        "     \n",
        "    for i in range(iterations): \n",
        "        result += (2/7) \n",
        " \n",
        "    for i in range(iterations): \n",
        "        result -= (2/7)\n",
        "    return result "
      ],
      "metadata": {
        "id": "jyue_7OzhGc7"
      },
      "execution_count": 73,
      "outputs": []
    },
    {
      "cell_type": "code",
      "source": [
        "# If we run this 100 times \n",
        "add_and_subtract(100) "
      ],
      "metadata": {
        "colab": {
          "base_uri": "https://localhost:8080/"
        },
        "id": "Rm7iAmP0hJwC",
        "outputId": "923d24d2-11cf-4191-d118-48efc8d80a54"
      },
      "execution_count": 74,
      "outputs": [
        {
          "output_type": "execute_result",
          "data": {
            "text/plain": [
              "4.000000000000002"
            ]
          },
          "metadata": {},
          "execution_count": 74
        }
      ]
    },
    {
      "cell_type": "code",
      "source": [
        "# If we run this 1000 times \n",
        "add_and_subtract(1000) "
      ],
      "metadata": {
        "colab": {
          "base_uri": "https://localhost:8080/"
        },
        "id": "ADsuBn_0hLL7",
        "outputId": "f8d98418-1c6c-4817-82f3-a70346dfa0ab"
      },
      "execution_count": 75,
      "outputs": [
        {
          "output_type": "execute_result",
          "data": {
            "text/plain": [
              "3.9999999999999885"
            ]
          },
          "metadata": {},
          "execution_count": 75
        }
      ]
    },
    {
      "cell_type": "code",
      "source": [
        "# If we run this 10000 times \n",
        "add_and_subtract(10000) "
      ],
      "metadata": {
        "colab": {
          "base_uri": "https://localhost:8080/"
        },
        "id": "b_tQk3CphMio",
        "outputId": "a51e0beb-1b3c-4597-a15a-2978f29b1cca"
      },
      "execution_count": 76,
      "outputs": [
        {
          "output_type": "execute_result",
          "data": {
            "text/plain": [
              "4.000000000000208"
            ]
          },
          "metadata": {},
          "execution_count": 76
        }
      ]
    }
  ]
}