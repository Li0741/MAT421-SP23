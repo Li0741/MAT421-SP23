{
  "nbformat": 4,
  "nbformat_minor": 0,
  "metadata": {
    "colab": {
      "provenance": [],
      "authorship_tag": "ABX9TyOosmLNoInxTHMYhciMbQkN",
      "include_colab_link": true
    },
    "kernelspec": {
      "name": "python3",
      "display_name": "Python 3"
    },
    "language_info": {
      "name": "python"
    }
  },
  "cells": [
    {
      "cell_type": "markdown",
      "metadata": {
        "id": "view-in-github",
        "colab_type": "text"
      },
      "source": [
        "<a href=\"https://colab.research.google.com/github/Li0741/MAT421-SP23/blob/main/ModuoleC.ipynb\" target=\"_parent\"><img src=\"https://colab.research.google.com/assets/colab-badge.svg\" alt=\"Open In Colab\"/></a>"
      ]
    },
    {
      "cell_type": "markdown",
      "source": [
        "**19.1 Root Finding Problem Statement**"
      ],
      "metadata": {
        "id": "Fig70E1dNp5l"
      }
    },
    {
      "cell_type": "markdown",
      "source": [
        "The root (zero) of a function, f(x), is an $x_{r}$ such that f($x_{r}$) = 0\n",
        "\n",
        "Using fsolve function from scipy to compute the root of f(x) = cos(x)-x near -5 and f(x) = 1/x near -5"
      ],
      "metadata": {
        "id": "Kt4KBp7zPHr2"
      }
    },
    {
      "cell_type": "code",
      "source": [
        "import numpy as np \n",
        "from scipy import optimize \n",
        " \n",
        "f = lambda x: np.cos(x) - x \n",
        "r, infodict, ier, mesg = optimize.fsolve(f, -5, full_output=True) \n",
        "print(\"r =\", r) \n",
        " \n",
        "result = f(r) \n",
        "print(\"result=\", result) \n",
        " \n",
        "print(mesg) "
      ],
      "metadata": {
        "colab": {
          "base_uri": "https://localhost:8080/"
        },
        "id": "ryndVs02Oel8",
        "outputId": "9af3a19b-f35c-408c-8d46-78d90f4151d0"
      },
      "execution_count": 41,
      "outputs": [
        {
          "output_type": "stream",
          "name": "stdout",
          "text": [
            "r = [0.73908513]\n",
            "result= [0.]\n",
            "The solution converged.\n"
          ]
        }
      ]
    },
    {
      "cell_type": "code",
      "source": [
        "f = lambda x: 1/x \n",
        " \n",
        "r, infodict, ier, mesg = optimize.fsolve(f, -5, full_output=True) \n",
        "print(\"r =\", r) \n",
        " \n",
        "result = f(r) \n",
        "print(\"result=\", result) \n",
        " \n",
        "print(mesg) "
      ],
      "metadata": {
        "colab": {
          "base_uri": "https://localhost:8080/"
        },
        "id": "W8SxtgcuQM9k",
        "outputId": "e612b518-92d9-495e-8009-388aec12f269"
      },
      "execution_count": 40,
      "outputs": [
        {
          "output_type": "stream",
          "name": "stdout",
          "text": [
            "r = [-8.80118398e+83]\n",
            "result= [-1.13621077e-84]\n",
            "The number of calls to function has reached maxfev = 400.\n"
          ]
        }
      ]
    },
    {
      "cell_type": "markdown",
      "source": [
        "**19.2 Tolerance**"
      ],
      "metadata": {
        "id": "hGkPvDfiN3u8"
      }
    },
    {
      "cell_type": "markdown",
      "source": [
        "Error happens in science and engineering. It is a deviation from an expected or computed value. And telerance is the level of error that is acceptable for an engineering application. \n",
        "\n",
        "We converged to solution when there is a solution with an error smaller than the telorance."
      ],
      "metadata": {
        "id": "fmFIwanOSyyp"
      }
    },
    {
      "cell_type": "markdown",
      "source": [
        "**19.3 Bisection Method**"
      ],
      "metadata": {
        "id": "cj2sxq8KN33j"
      }
    },
    {
      "cell_type": "markdown",
      "source": [
        "The Intermediate Value Theorem says that if   is a continuous function between a and b, and sing(f(a)) != sign(f(b)), then there must be a c, such that a < c < b and f(c) = 0.\n",
        "\n",
        "\n",
        "The bisection method uses the intermediate value theorem iteratively to find roots.\n",
        "\n",
        "Following is an example of bisection method: Program a function my_bisection(f, a, b, tol) that approximates a root r of f, bounded by a and b to within |f((a+b)/2)| < tol."
      ],
      "metadata": {
        "id": "xER56ESGqrft"
      }
    },
    {
      "cell_type": "code",
      "source": [
        "import numpy as np \n",
        " \n",
        "def my_bisection(f, a, b, tol):  \n",
        "    # approximates a root, R, of f bounded  \n",
        "    # by a and b to within tolerance  \n",
        "    # | f(m) | < tol with m the midpoint  \n",
        "    # between a and b Recursive implementation \n",
        "     \n",
        "    # check if a and b bound a root \n",
        "    if np.sign(f(a)) == np.sign(f(b)): \n",
        "        raise Exception(\"The scalars a and b do not bound a root\") \n",
        "         \n",
        "    # get midpoint \n",
        "    m = (a + b)/2 \n",
        "     \n",
        "    if np.abs(f(m)) < tol: \n",
        "        # stopping condition, report m as root \n",
        "        return m \n",
        "    elif np.sign(f(a)) == np.sign(f(m)): \n",
        "        # case where m is an improvement on a.  \n",
        "        # Make recursive call with a = m \n",
        "        return my_bisection(f, m, b, tol) \n",
        "    elif np.sign(f(b)) == np.sign(f(m)): \n",
        "        # case where m is an improvement on b.  \n",
        "        # Make recursive call with b = m \n",
        "        return my_bisection(f, a, m, tol)\n",
        "\n",
        "f = lambda x: x**2 - 2 \n",
        " \n",
        "r1 = my_bisection(f, 0, 2, 0.1) \n",
        "print(\"r1 =\", r1) \n",
        "r01 = my_bisection(f, 0, 2, 0.01) \n",
        "print(\"r01 =\", r01) \n",
        " \n",
        "print(\"f(r1) =\", f(r1)) \n",
        "print(\"f(r01) =\", f(r01)) "
      ],
      "metadata": {
        "colab": {
          "base_uri": "https://localhost:8080/"
        },
        "id": "EecSCyzJOlib",
        "outputId": "40bc0b53-602e-49f3-e7d8-530e9299f475"
      },
      "execution_count": 46,
      "outputs": [
        {
          "output_type": "stream",
          "name": "stdout",
          "text": [
            "r1 = 1.4375\n",
            "r01 = 1.4140625\n",
            "f(r1) = 0.06640625\n",
            "f(r01) = -0.00042724609375\n"
          ]
        }
      ]
    },
    {
      "cell_type": "markdown",
      "source": [
        "**19.4 Newton-Raphson Method**"
      ],
      "metadata": {
        "id": "Aorg1ti4N37Q"
      }
    },
    {
      "cell_type": "markdown",
      "source": [
        "The Newton-Raphson Method of finding roots iterates Newton steps from $x_{0}$ until the error is less than the\n",
        "tolerance.\n",
        "\n",
        "Following are two ways to apply Newton-Raphson method to calculate the value compared to the root.\n",
        "\n",
        "1. the $\\sqrt{2}$ is the root of the function f(x) x^2 - 2. Using $x_{0}$ = 1.4 as a starting point, use the equation to estimate $\\sqrt{2}$. Then compared the value to the sqrt function\n",
        "\n",
        "2. Write a function newton(f, df, x0, tol), where the output is an estimation of the root of f, f is a\n",
        "function object f(x), df is a function object to f'(x), x0 is an initial guess, and tol is the error tolerance. The error\n",
        "measurement should be |f(x)|. Use my_newton= to compute $\\sqrt{2}$ to within tolerance of 1e-6 starting at x0 = 1.5."
      ],
      "metadata": {
        "id": "OSF_uEV0qqxc"
      }
    },
    {
      "cell_type": "code",
      "source": [
        "import numpy as np \n",
        " \n",
        "f = lambda x: x**2 - 2 \n",
        "f_prime = lambda x: 2*x \n",
        "newton_raphson = 1.4 - (f(1.4))/(f_prime(1.4)) \n",
        " \n",
        "print(\"newton_raphson =\", newton_raphson) \n",
        "print(\"sqrt(2) =\", np.sqrt(2)) \n",
        "\n",
        "print(\"\")\n",
        "\n",
        "def my_newton(f, df, x0, tol): \n",
        "    if abs(f(x0)) < tol: \n",
        "        return x0 \n",
        "    else: \n",
        "        return my_newton(f, df, x0 - f(x0)/df(x0), tol) \n",
        "\n",
        "estimate = my_newton(f, f_prime, 1.5, 1e-6) \n",
        "print(\"estimate =\", estimate) \n",
        "print(\"sqrt(2) =\", np.sqrt(2)) "
      ],
      "metadata": {
        "colab": {
          "base_uri": "https://localhost:8080/"
        },
        "id": "GlU8gTssOlDh",
        "outputId": "71017daf-8b58-4ff1-d14a-82b74a801d95"
      },
      "execution_count": 44,
      "outputs": [
        {
          "output_type": "stream",
          "name": "stdout",
          "text": [
            "newton_raphson = 1.4142857142857144\n",
            "sqrt(2) = 1.4142135623730951\n",
            "\n",
            "estimate = 1.4142135623746899\n",
            "sqrt(2) = 1.4142135623730951\n"
          ]
        }
      ]
    },
    {
      "cell_type": "markdown",
      "source": [
        "**19.5 Root Finding in Python**"
      ],
      "metadata": {
        "id": "AfYfvfuiN3-F"
      }
    },
    {
      "cell_type": "markdown",
      "source": [
        "Compute the root of x^2 - 101x + 100 using fsolve."
      ],
      "metadata": {
        "id": "fa1IcstmoDKV"
      }
    },
    {
      "cell_type": "code",
      "source": [
        "from scipy.optimize import fsolve\n",
        "f = lambda x: x**2 - 101*x + 100\n",
        "\n",
        "fsolve(f, [2, 80])"
      ],
      "metadata": {
        "colab": {
          "base_uri": "https://localhost:8080/"
        },
        "id": "jzLBiesSOmko",
        "outputId": "7fc5c174-641a-44ff-9e5c-66cf1044028c"
      },
      "execution_count": 43,
      "outputs": [
        {
          "output_type": "execute_result",
          "data": {
            "text/plain": [
              "array([  1., 100.])"
            ]
          },
          "metadata": {},
          "execution_count": 43
        }
      ]
    }
  ]
}