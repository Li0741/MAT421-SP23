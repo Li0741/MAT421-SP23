{
  "nbformat": 4,
  "nbformat_minor": 0,
  "metadata": {
    "colab": {
      "provenance": [],
      "authorship_tag": "ABX9TyPYSnMtRzrp6XTrlOsoaoGS",
      "include_colab_link": true
    },
    "kernelspec": {
      "name": "python3",
      "display_name": "Python 3"
    },
    "language_info": {
      "name": "python"
    }
  },
  "cells": [
    {
      "cell_type": "markdown",
      "metadata": {
        "id": "view-in-github",
        "colab_type": "text"
      },
      "source": [
        "<a href=\"https://colab.research.google.com/github/Li0741/MAT421-SP23/blob/main/ModuleD.ipynb\" target=\"_parent\"><img src=\"https://colab.research.google.com/assets/colab-badge.svg\" alt=\"Open In Colab\"/></a>"
      ]
    },
    {
      "cell_type": "markdown",
      "source": [
        "**1.1 Introduction**"
      ],
      "metadata": {
        "id": "qA_UjNaiqTfm"
      }
    },
    {
      "cell_type": "markdown",
      "source": [
        "Basic of linear algebra:\n",
        "---\n",
        "\n",
        "Sets - Collection of objects {}\n",
        "\n",
        "Union - A U B - Set containing all elements of A and B\n",
        "\n",
        "Intersect - A n B - Set Containing all elements thats belong to both A and B\n",
        "\n",
        "Naturals - N = {1,2,3,4,..}\n",
        "\n",
        "Wholes - W = N U {0}\n",
        "\n",
        "Integers - Z = W U {-1,-2,-3,....}\n",
        "\n",
        "Rationals - Q = { p/g : p ∊ Z , q ∊ Z \\ {0}}\n",
        "\n",
        "Irrationals - I = set of real numbers not expressible as a fraction of integers\n",
        "\n",
        "Reals - R = Q U I\n",
        "\n",
        "Complex Numbers - C = {a + bi: a, b ∊ R, i = sqrt(-1) }"
      ],
      "metadata": {
        "id": "VFVicybnqrZs"
      }
    },
    {
      "cell_type": "code",
      "source": [
        "#This gives a example of vector in python.\n",
        "import numpy as np\n",
        "vector_row = np.array([[1, -5, 3, 2, 4]])\n",
        "vector_column = np.array([[1],\n",
        "              [2], \n",
        "              [3], \n",
        "              [4]])\n",
        "print(vector_row.shape)\n",
        "print(vector_column.shape)"
      ],
      "metadata": {
        "colab": {
          "base_uri": "https://localhost:8080/"
        },
        "id": "0rAm1pxgsDdt",
        "outputId": "a938784f-53f7-4a54-bd72-429789d2ff51"
      },
      "execution_count": 11,
      "outputs": [
        {
          "output_type": "stream",
          "name": "stdout",
          "text": [
            "(1, 5)\n",
            "(4, 1)\n"
          ]
        }
      ]
    },
    {
      "cell_type": "markdown",
      "source": [
        "**1.2 Elements of Linear Algebra**"
      ],
      "metadata": {
        "id": "uVVMbEgDqUcc"
      }
    },
    {
      "cell_type": "markdown",
      "source": [
        "A linear subspace of V is a subset U ⊆ V that is closed under vector addition and scalar multiplication. That is for all u1, u2 ∊ U and a ∊ R it holds u1 + u2 and a u1 ∊ u\n",
        "\n",
        "\n",
        "---\n",
        "\n",
        "\n",
        "Span - let w1,...,wm ∊ V. The span is denoted span(w1,...,wm) is the set of all linear combos of the w's\n",
        "\n",
        "Every Span is a Linear Subspace - Let W = span(w1,...,wm). Then W is a linear subspace.\n",
        "\n",
        "\n",
        "---\n",
        "\n",
        "\n",
        "Column Space - Let A ∊ R^(nxm) be an nxm matrix with columns a1,...,am ∊ R^n. The column space of A, denoted col(A) is the span of the columns of A.\n",
        "\n",
        "\n",
        "---\n",
        "\n",
        "\n",
        "Linear Independence - A list of vectors u1,...,um is linearly independent if none of them can be written as a linear combinations of the others.\n",
        "\n",
        "\n",
        "---\n",
        "\n",
        "\n",
        "Dimension Theorem - Let U be a linear subspace of V. Any basis of U has the same number of elements. All bases of U have the same length and same number of elements is dim(U).\n"
      ],
      "metadata": {
        "id": "Wq3c9HWQqrFq"
      }
    },
    {
      "cell_type": "markdown",
      "source": [
        "**Orthonormal Bases**\n",
        "\n",
        "A list of vectors {u1,...,um} is orthonormal if the u's are pairwise orthogonal and each has a norm 1 .\n",
        "\n",
        "Orthogonal Projection - Let U ⊆ V be a linear subspace with orthonormal basis q1,...,qm. The orthogonal porjection of v ∊ V on U is Pu v = sum(j=1)< v , qj > qj.\n",
        "\n",
        "\n",
        "---\n",
        "\n",
        "\n",
        "Best Approximation Theorem - Let U ⊆ V be a linear subspace with orthonormal basis q1,...,qm let v ∊ V. For any u ∊ U. ||v-Pu v|| <= ||v-u||.\n",
        "\n",
        "Pythagorean Theorem - Let u1 v ∊ V be orthogonal. Then ||u + v||^2 = ||u||^2 + ||v||^2\n",
        "\n",
        "\n",
        "\n",
        "---\n",
        "\n",
        "\n",
        "Eigenvalues and Eigenvectors - Let A ∊ R^(dxd) be a square matrix. Then 𝜆 ∊ R is an eigenvalue of A if there exists a non-zero vector x != 0 such that Ax = 𝜆x. Vector x is an eigenvector.\n",
        "\n",
        "Diagonal and Similar Matrices - Let A be similar to a matrix D = diag(𝜆1,...,𝜆d) with distinct diagonal entries, that exists a non-singular matric A such that A = PDP^-1\n",
        "\n",
        "If A is symmetric, then any 2 eigenvectors from different eigenspaces are orthogonal.\n",
        "\n",
        "\n",
        "\n",
        "---\n",
        "The Spectral Theorem of Symmetric Matrices - an n × n\n",
        "symmetric matrix A has the following properties:\n",
        "*   A has n real eigenvalues, counting multiplicities.\n",
        "*   If λ is an eigenvalues of A with multiplicity k, then the eigenspace for λ is k-dimensional.\n",
        "*   The eigenspaces are mutually orthogonal, in the sense that eigenvectors corresponding to different eigenvalues are orthogonal.\n",
        "*   A is orthogonally diagonalizable\n"
      ],
      "metadata": {
        "id": "EaB9vjkypAyf"
      }
    },
    {
      "cell_type": "markdown",
      "source": [
        "Compute the eigenvalues and eigenvectors for matrix A = [[2. 2. 4.], [2. 3. 5.], [2. 3. 4]]"
      ],
      "metadata": {
        "id": "bVds-kfzp2ce"
      }
    },
    {
      "cell_type": "code",
      "source": [
        "import numpy as np\n",
        "from numpy.linalg import eig\n",
        "\n",
        "a = np.array([[2, 2, 4], \n",
        "        [2, 3, 5],\n",
        "        [2, 3, 4]])\n",
        "w,v=eig(a)\n",
        "print('E-value:', w)\n",
        "print('E-vector', v)"
      ],
      "metadata": {
        "colab": {
          "base_uri": "https://localhost:8080/"
        },
        "id": "SYUrhpb8qUhN",
        "outputId": "d79593f6-5346-4b58-97a6-ae969a23ff19"
      },
      "execution_count": 10,
      "outputs": [
        {
          "output_type": "stream",
          "name": "stdout",
          "text": [
            "E-value: [ 9.0858344   0.42821417 -0.51404856]\n",
            "E-vector [[-0.50657506 -0.88978956 -0.52057232]\n",
            " [-0.64059399  0.43714525 -0.58654536]\n",
            " [-0.57707976  0.13106703  0.6204587 ]]\n"
          ]
        }
      ]
    },
    {
      "cell_type": "markdown",
      "source": [
        "**1.3 Linear Regression**"
      ],
      "metadata": {
        "id": "7h_I9dNkqUms"
      }
    },
    {
      "cell_type": "markdown",
      "source": [
        "QR Decomposition is a preferred iterative method to find all the eigenvalues of a matrix (but not the eigenvectors at the same time). "
      ],
      "metadata": {
        "id": "kstHzIjMqqQb"
      }
    },
    {
      "cell_type": "markdown",
      "source": [
        "Use the qr function in numpy.linalg to decompose matrix A=[[02], [23]]"
      ],
      "metadata": {
        "id": "SRZXQR-CsEF_"
      }
    },
    {
      "cell_type": "code",
      "source": [
        "import numpy as np\n",
        "from numpy.linalg import qr\n",
        "\n",
        "a = np.array([[0, 2], \n",
        "        [2, 3]])\n",
        "\n",
        "q, r = qr(a)\n",
        "\n",
        "print('Q:', q)\n",
        "print('R:', r)\n",
        "\n",
        "b = np.dot(q, r)\n",
        "print('QR:', b)\n",
        "\n",
        "a = np.array([[0, 2], \n",
        "        [2, 3]])\n",
        "p = [1, 5, 10, 20]\n",
        "for i in range(20):\n",
        "    q, r = qr(a)\n",
        "    a = np.dot(r, q)\n",
        "    if i+1 in p:\n",
        "        print(f'Iteration {i+1}:')\n",
        "        print(a)"
      ],
      "metadata": {
        "colab": {
          "base_uri": "https://localhost:8080/"
        },
        "id": "3MyKhGT2qUr9",
        "outputId": "0a00aead-2ff3-4974-e0e7-44e028328bbf"
      },
      "execution_count": 9,
      "outputs": [
        {
          "output_type": "stream",
          "name": "stdout",
          "text": [
            "Q: [[ 0. -1.]\n",
            " [-1.  0.]]\n",
            "R: [[-2. -3.]\n",
            " [ 0. -2.]]\n",
            "QR: [[0. 2.]\n",
            " [2. 3.]]\n",
            "Iteration 1:\n",
            "[[3. 2.]\n",
            " [2. 0.]]\n",
            "Iteration 5:\n",
            "[[ 3.99998093  0.00976559]\n",
            " [ 0.00976559 -0.99998093]]\n",
            "Iteration 10:\n",
            "[[ 4.00000000e+00  9.53674316e-06]\n",
            " [ 9.53674316e-06 -1.00000000e+00]]\n",
            "Iteration 20:\n",
            "[[ 4.00000000e+00  9.09484250e-12]\n",
            " [ 9.09494702e-12 -1.00000000e+00]]\n"
          ]
        }
      ]
    }
  ]
}